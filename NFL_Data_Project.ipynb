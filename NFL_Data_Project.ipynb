{
 "cells": [
  {
   "cell_type": "code",
   "execution_count": 4,
   "metadata": {
    "id": "gG0QWsE79M93"
   },
   "outputs": [],
   "source": [
    "import pandas as pd\n",
    "df_week1 = pd.read_csv(\"nfl-big-data-bowl-2025/tracking_week_1.csv\")\n",
    "df_week2 = pd.read_csv(\"nfl-big-data-bowl-2025/tracking_week_1.csv\")\n",
    "#df_week3 = pd.read_csv(\"/content/drive/MyDrive/Colab Notebooks/nfl-big-data-bowl-2025/tracking_week_1.csv\")"
   ]
  },
  {
   "cell_type": "code",
   "execution_count": 4,
   "metadata": {
    "colab": {
     "base_uri": "https://localhost:8080/"
    },
    "id": "p_NFN5TCIltE",
    "outputId": "7cb0c6f4-9333-4acf-df38-ffd5db0855bb"
   },
   "outputs": [
    {
     "name": "stdout",
     "output_type": "stream",
     "text": [
      "<class 'pandas.core.frame.DataFrame'>\n",
      "RangeIndex: 7104700 entries, 0 to 7104699\n",
      "Data columns (total 18 columns):\n",
      " #   Column         Dtype  \n",
      "---  ------         -----  \n",
      " 0   gameId         int64  \n",
      " 1   playId         int64  \n",
      " 2   nflId          float64\n",
      " 3   displayName    object \n",
      " 4   frameId        int64  \n",
      " 5   frameType      object \n",
      " 6   time           object \n",
      " 7   jerseyNumber   float64\n",
      " 8   club           object \n",
      " 9   playDirection  object \n",
      " 10  x              float64\n",
      " 11  y              float64\n",
      " 12  s              float64\n",
      " 13  a              float64\n",
      " 14  dis            float64\n",
      " 15  o              float64\n",
      " 16  dir            float64\n",
      " 17  event          object \n",
      "dtypes: float64(9), int64(3), object(6)\n",
      "memory usage: 975.7+ MB\n",
      "None\n"
     ]
    }
   ],
   "source": [
    "print(df_week1.info())"
   ]
  },
  {
   "cell_type": "code",
   "execution_count": 7,
   "metadata": {
    "colab": {
     "base_uri": "https://localhost:8080/"
    },
    "id": "Nvktcz-MI47F",
    "outputId": "8513083e-20b5-44ec-b892-4dba88bde2c2"
   },
   "outputs": [
    {
     "name": "stdout",
     "output_type": "stream",
     "text": [
      "<class 'pandas.core.frame.DataFrame'>\n",
      "RangeIndex: 7104700 entries, 0 to 7104699\n",
      "Data columns (total 18 columns):\n",
      " #   Column         Dtype  \n",
      "---  ------         -----  \n",
      " 0   gameId         int64  \n",
      " 1   playId         int64  \n",
      " 2   nflId          float64\n",
      " 3   displayName    object \n",
      " 4   frameId        int64  \n",
      " 5   frameType      object \n",
      " 6   time           object \n",
      " 7   jerseyNumber   float64\n",
      " 8   club           object \n",
      " 9   playDirection  object \n",
      " 10  x              float64\n",
      " 11  y              float64\n",
      " 12  s              float64\n",
      " 13  a              float64\n",
      " 14  dis            float64\n",
      " 15  o              float64\n",
      " 16  dir            float64\n",
      " 17  event          object \n",
      "dtypes: float64(9), int64(3), object(6)\n",
      "memory usage: 975.7+ MB\n",
      "None\n"
     ]
    }
   ],
   "source": [
    "print(df_week2.info())"
   ]
  },
  {
   "cell_type": "code",
   "execution_count": null,
   "metadata": {
    "colab": {
     "base_uri": "https://localhost:8080/"
    },
    "id": "w-AlVlN8JApg",
    "outputId": "3927f406-c6aa-4637-d054-3a7986035285"
   },
   "outputs": [
    {
     "name": "stdout",
     "output_type": "stream",
     "text": [
      "<class 'pandas.core.frame.DataFrame'>\n",
      "RangeIndex: 7104700 entries, 0 to 7104699\n",
      "Data columns (total 18 columns):\n",
      " #   Column         Dtype  \n",
      "---  ------         -----  \n",
      " 0   gameId         int64  \n",
      " 1   playId         int64  \n",
      " 2   nflId          float64\n",
      " 3   displayName    object \n",
      " 4   frameId        int64  \n",
      " 5   frameType      object \n",
      " 6   time           object \n",
      " 7   jerseyNumber   float64\n",
      " 8   club           object \n",
      " 9   playDirection  object \n",
      " 10  x              float64\n",
      " 11  y              float64\n",
      " 12  s              float64\n",
      " 13  a              float64\n",
      " 14  dis            float64\n",
      " 15  o              float64\n",
      " 16  dir            float64\n",
      " 17  event          object \n",
      "dtypes: float64(9), int64(3), object(6)\n",
      "memory usage: 975.7+ MB\n",
      "None\n"
     ]
    }
   ],
   "source": [
    "print(df_week3.info())"
   ]
  },
  {
   "cell_type": "code",
   "execution_count": null,
   "metadata": {
    "colab": {
     "base_uri": "https://localhost:8080/"
    },
    "id": "z_rl25WuJHU5",
    "outputId": "aa3238b0-08f6-49b0-907b-041a931ba4fa"
   },
   "outputs": [
    {
     "name": "stdout",
     "output_type": "stream",
     "text": [
      "Index(['gameId', 'playId', 'nflId', 'displayName', 'frameId', 'frameType',\n",
      "       'time', 'jerseyNumber', 'club', 'playDirection', 'x', 'y', 's', 'a',\n",
      "       'dis', 'o', 'dir', 'event'],\n",
      "      dtype='object')\n"
     ]
    }
   ],
   "source": [
    "print(df_week1.columns)"
   ]
  },
  {
   "cell_type": "code",
   "execution_count": null,
   "metadata": {
    "colab": {
     "base_uri": "https://localhost:8080/"
    },
    "id": "H33Hqb5vKRiE",
    "outputId": "09a54467-d7ff-4d16-d7ad-981a1de75889"
   },
   "outputs": [
    {
     "name": "stdout",
     "output_type": "stream",
     "text": [
      "(7104700, 18)\n"
     ]
    }
   ],
   "source": [
    "print(df_week1.shape)"
   ]
  },
  {
   "cell_type": "code",
   "execution_count": 5,
   "metadata": {
    "colab": {
     "base_uri": "https://localhost:8080/"
    },
    "id": "i9V71rwrKaFS",
    "outputId": "fe6bb40a-16ba-4600-a2c5-d383cbd2988f"
   },
   "outputs": [
    {
     "name": "stdout",
     "output_type": "stream",
     "text": [
      "gameId                 0\n",
      "playId                 0\n",
      "nflId             308900\n",
      "displayName            0\n",
      "frameId                0\n",
      "frameType              0\n",
      "time                   0\n",
      "jerseyNumber      308900\n",
      "club                   0\n",
      "playDirection          0\n",
      "x                      0\n",
      "y                      0\n",
      "s                      0\n",
      "a                      0\n",
      "dis                    0\n",
      "o                 308511\n",
      "dir               308511\n",
      "event            6795189\n",
      "dtype: int64\n"
     ]
    }
   ],
   "source": [
    "print(df_week1.isnull().sum())"
   ]
  },
  {
   "cell_type": "code",
   "execution_count": 6,
   "metadata": {
    "colab": {
     "base_uri": "https://localhost:8080/"
    },
    "id": "uHBgatRfMPiv",
    "outputId": "c4b383f5-e655-4a65-f166-bce962edc60c"
   },
   "outputs": [
    {
     "name": "stderr",
     "output_type": "stream",
     "text": [
      "/tmp/ipykernel_2486064/2907550039.py:1: FutureWarning: A value is trying to be set on a copy of a DataFrame or Series through chained assignment using an inplace method.\n",
      "The behavior will change in pandas 3.0. This inplace method will never work because the intermediate object on which we are setting values always behaves as a copy.\n",
      "\n",
      "For example, when doing 'df[col].method(value, inplace=True)', try using 'df.method({col: value}, inplace=True)' or df[col] = df[col].method(value) instead, to perform the operation inplace on the original object.\n",
      "\n",
      "\n",
      "  df_week1[\"nflId\"].fillna(0, inplace=True)\n",
      "/tmp/ipykernel_2486064/2907550039.py:2: FutureWarning: A value is trying to be set on a copy of a DataFrame or Series through chained assignment using an inplace method.\n",
      "The behavior will change in pandas 3.0. This inplace method will never work because the intermediate object on which we are setting values always behaves as a copy.\n",
      "\n",
      "For example, when doing 'df[col].method(value, inplace=True)', try using 'df.method({col: value}, inplace=True)' or df[col] = df[col].method(value) instead, to perform the operation inplace on the original object.\n",
      "\n",
      "\n",
      "  df_week1[\"jerseyNumber\"].fillna(0, inplace=True)\n",
      "/tmp/ipykernel_2486064/2907550039.py:3: FutureWarning: A value is trying to be set on a copy of a DataFrame or Series through chained assignment using an inplace method.\n",
      "The behavior will change in pandas 3.0. This inplace method will never work because the intermediate object on which we are setting values always behaves as a copy.\n",
      "\n",
      "For example, when doing 'df[col].method(value, inplace=True)', try using 'df.method({col: value}, inplace=True)' or df[col] = df[col].method(value) instead, to perform the operation inplace on the original object.\n",
      "\n",
      "\n",
      "  df_week1[\"o\"].fillna(0, inplace=True)\n",
      "/tmp/ipykernel_2486064/2907550039.py:4: FutureWarning: A value is trying to be set on a copy of a DataFrame or Series through chained assignment using an inplace method.\n",
      "The behavior will change in pandas 3.0. This inplace method will never work because the intermediate object on which we are setting values always behaves as a copy.\n",
      "\n",
      "For example, when doing 'df[col].method(value, inplace=True)', try using 'df.method({col: value}, inplace=True)' or df[col] = df[col].method(value) instead, to perform the operation inplace on the original object.\n",
      "\n",
      "\n",
      "  df_week1[\"dir\"].fillna(0, inplace=True)\n",
      "/tmp/ipykernel_2486064/2907550039.py:5: FutureWarning: A value is trying to be set on a copy of a DataFrame or Series through chained assignment using an inplace method.\n",
      "The behavior will change in pandas 3.0. This inplace method will never work because the intermediate object on which we are setting values always behaves as a copy.\n",
      "\n",
      "For example, when doing 'df[col].method(value, inplace=True)', try using 'df.method({col: value}, inplace=True)' or df[col] = df[col].method(value) instead, to perform the operation inplace on the original object.\n",
      "\n",
      "\n",
      "  df_week1[\"event\"].fillna(0, inplace=True)\n"
     ]
    }
   ],
   "source": [
    "df_week1[\"nflId\"].fillna(0, inplace=True)\n",
    "df_week1[\"jerseyNumber\"].fillna(0, inplace=True)\n",
    "df_week1[\"o\"].fillna(0, inplace=True)\n",
    "df_week1[\"dir\"].fillna(0, inplace=True)\n",
    "df_week1[\"event\"].fillna(0, inplace=True)"
   ]
  },
  {
   "cell_type": "code",
   "execution_count": 7,
   "metadata": {
    "colab": {
     "base_uri": "https://localhost:8080/"
    },
    "id": "rd2uD6nWOGGW",
    "outputId": "3d124ee6-eb46-4203-d5f3-c057444f904e"
   },
   "outputs": [
    {
     "name": "stdout",
     "output_type": "stream",
     "text": [
      "gameId           0\n",
      "playId           0\n",
      "nflId            0\n",
      "displayName      0\n",
      "frameId          0\n",
      "frameType        0\n",
      "time             0\n",
      "jerseyNumber     0\n",
      "club             0\n",
      "playDirection    0\n",
      "x                0\n",
      "y                0\n",
      "s                0\n",
      "a                0\n",
      "dis              0\n",
      "o                0\n",
      "dir              0\n",
      "event            0\n",
      "dtype: int64\n"
     ]
    }
   ],
   "source": [
    "print(df_week1.isnull().sum())"
   ]
  },
  {
   "cell_type": "code",
   "execution_count": 11,
   "metadata": {
    "colab": {
     "base_uri": "https://localhost:8080/"
    },
    "id": "72maLCAeOOjO",
    "outputId": "9c03ae9f-d133-475a-bd2a-7073a6c01f29"
   },
   "outputs": [
    {
     "name": "stdout",
     "output_type": "stream",
     "text": [
      "             gameId  playId    nflId  displayName  frameId    frameType  \\\n",
      "3396356  2022091106     290  43454.0  Tyreek Hill        1  BEFORE_SNAP   \n",
      "3396357  2022091106     290  43454.0  Tyreek Hill        2  BEFORE_SNAP   \n",
      "3396358  2022091106     290  43454.0  Tyreek Hill        3  BEFORE_SNAP   \n",
      "3396359  2022091106     290  43454.0  Tyreek Hill        4  BEFORE_SNAP   \n",
      "3396360  2022091106     290  43454.0  Tyreek Hill        5  BEFORE_SNAP   \n",
      "\n",
      "                          time  jerseyNumber club playDirection      x      y  \\\n",
      "3396356  2022-09-11 17:13:19.7          10.0  MIA          left  82.90  34.57   \n",
      "3396357  2022-09-11 17:13:19.8          10.0  MIA          left  82.90  34.57   \n",
      "3396358  2022-09-11 17:13:19.9          10.0  MIA          left  82.91  34.56   \n",
      "3396359    2022-09-11 17:13:20          10.0  MIA          left  82.92  34.56   \n",
      "3396360  2022-09-11 17:13:20.1          10.0  MIA          left  82.91  34.55   \n",
      "\n",
      "            s     a   dis       o     dir event  \n",
      "3396356  0.05  0.04  0.01  268.94  108.66     0  \n",
      "3396357  0.05  0.04  0.01  267.33  121.95     0  \n",
      "3396358  0.06  0.04  0.01  266.50  125.61     0  \n",
      "3396359  0.05  0.04  0.01  265.13  119.29     0  \n",
      "3396360  0.04  0.03  0.01  265.97  137.34     0  \n"
     ]
    }
   ],
   "source": [
    "data = df_week1[df_week1['nflId'] == 43454]\n",
    "print(data.head())"
   ]
  },
  {
   "cell_type": "code",
   "execution_count": null,
   "metadata": {
    "colab": {
     "base_uri": "https://localhost:8080/"
    },
    "id": "99_zF1mPYExc",
    "outputId": "60680463-d012-4c3f-e432-5a45b9bf980d"
   },
   "outputs": [
    {
     "name": "stdout",
     "output_type": "stream",
     "text": [
      "             gameId  playId    nflId  displayName  frameId   frameType  \\\n",
      "3741429  2022091106    3437  43454.0  Tyreek Hill      184  AFTER_SNAP   \n",
      "3741430  2022091106    3437  43454.0  Tyreek Hill      185  AFTER_SNAP   \n",
      "3741431  2022091106    3437  43454.0  Tyreek Hill      186  AFTER_SNAP   \n",
      "3741432  2022091106    3437  43454.0  Tyreek Hill      187  AFTER_SNAP   \n",
      "3741433  2022091106    3437  43454.0  Tyreek Hill      188  AFTER_SNAP   \n",
      "\n",
      "                          time  jerseyNumber club playDirection      x      y  \\\n",
      "3741429  2022-09-11 19:48:53.8          10.0  MIA         right  95.88  33.46   \n",
      "3741430  2022-09-11 19:48:53.9          10.0  MIA         right  96.00  33.29   \n",
      "3741431    2022-09-11 19:48:54          10.0  MIA         right  96.12  33.13   \n",
      "3741432  2022-09-11 19:48:54.1          10.0  MIA         right  96.22  32.97   \n",
      "3741433  2022-09-11 19:48:54.2          10.0  MIA         right  96.30  32.83   \n",
      "\n",
      "            s     a   dis       o     dir   event  \n",
      "3741429  2.12  1.20  0.22  138.29  140.86  tackle  \n",
      "3741430  2.02  1.24  0.21  140.93  144.29       0  \n",
      "3741431  1.90  1.22  0.19  142.92  146.31       0  \n",
      "3741432  1.80  1.16  0.18  145.75  148.27       0  \n",
      "3741433  1.67  1.24  0.17  149.83  151.01       0  \n"
     ]
    }
   ],
   "source": [
    "print(data.tail())"
   ]
  },
  {
   "cell_type": "code",
   "execution_count": 13,
   "metadata": {
    "id": "f7c43HSDQuFl"
   },
   "outputs": [],
   "source": [
    "df_plays = pd.read_csv(\"nfl-big-data-bowl-2025/plays.csv\")"
   ]
  },
  {
   "cell_type": "code",
   "execution_count": 14,
   "metadata": {
    "colab": {
     "base_uri": "https://localhost:8080/"
    },
    "id": "PBGP9haNSjZL",
    "outputId": "3d23b60c-c74d-478d-9b71-48f3f6c1237d"
   },
   "outputs": [
    {
     "name": "stdout",
     "output_type": "stream",
     "text": [
      "gameId                                  0\n",
      "playId                                  0\n",
      "playDescription                         0\n",
      "quarter                                 0\n",
      "down                                    0\n",
      "yardsToGo                               0\n",
      "possessionTeam                          0\n",
      "defensiveTeam                           0\n",
      "yardlineSide                          224\n",
      "yardlineNumber                          0\n",
      "gameClock                               0\n",
      "preSnapHomeScore                        0\n",
      "preSnapVisitorScore                     0\n",
      "playNullifiedByPenalty                  0\n",
      "absoluteYardlineNumber                  0\n",
      "preSnapHomeTeamWinProbability           0\n",
      "preSnapVisitorTeamWinProbability        0\n",
      "expectedPoints                          0\n",
      "offenseFormation                      188\n",
      "receiverAlignment                     188\n",
      "playClockAtSnap                         1\n",
      "passResult                           6388\n",
      "passLength                           7398\n",
      "targetX                              7748\n",
      "targetY                              7748\n",
      "playAction                              0\n",
      "dropbackType                         5803\n",
      "dropbackDistance                     5966\n",
      "passLocationType                     6812\n",
      "timeToThrow                          7419\n",
      "timeInTackleBox                      7207\n",
      "timeToSack                          15516\n",
      "passTippedAtLine                     6788\n",
      "unblockedPressure                    6369\n",
      "qbSpike                              6788\n",
      "qbKneel                                 0\n",
      "qbSneak                              9336\n",
      "rushLocationType                     9336\n",
      "penaltyYards                        15740\n",
      "prePenaltyYardsGained                   0\n",
      "yardsGained                             0\n",
      "homeTeamWinProbabilityAdded             0\n",
      "visitorTeamWinProbilityAdded            0\n",
      "expectedPointsAdded                     0\n",
      "isDropback                              0\n",
      "pff_runConceptPrimary                7053\n",
      "pff_runConceptSecondary             13303\n",
      "pff_runPassOption                       0\n",
      "pff_passCoverage                      192\n",
      "pff_manZone                           192\n",
      "dtype: int64\n"
     ]
    }
   ],
   "source": [
    "print(df_plays.isnull().sum())"
   ]
  },
  {
   "cell_type": "code",
   "execution_count": 15,
   "metadata": {
    "id": "-YU1CQkgS6dO"
   },
   "outputs": [],
   "source": [
    "df_plays.fillna(0, inplace = True)"
   ]
  },
  {
   "cell_type": "code",
   "execution_count": 16,
   "metadata": {
    "colab": {
     "base_uri": "https://localhost:8080/"
    },
    "id": "HYwtKo3yTbfR",
    "outputId": "656c6b40-581f-494a-86eb-f6da526f2c17"
   },
   "outputs": [
    {
     "name": "stdout",
     "output_type": "stream",
     "text": [
      "gameId                              0\n",
      "playId                              0\n",
      "playDescription                     0\n",
      "quarter                             0\n",
      "down                                0\n",
      "yardsToGo                           0\n",
      "possessionTeam                      0\n",
      "defensiveTeam                       0\n",
      "yardlineSide                        0\n",
      "yardlineNumber                      0\n",
      "gameClock                           0\n",
      "preSnapHomeScore                    0\n",
      "preSnapVisitorScore                 0\n",
      "playNullifiedByPenalty              0\n",
      "absoluteYardlineNumber              0\n",
      "preSnapHomeTeamWinProbability       0\n",
      "preSnapVisitorTeamWinProbability    0\n",
      "expectedPoints                      0\n",
      "offenseFormation                    0\n",
      "receiverAlignment                   0\n",
      "playClockAtSnap                     0\n",
      "passResult                          0\n",
      "passLength                          0\n",
      "targetX                             0\n",
      "targetY                             0\n",
      "playAction                          0\n",
      "dropbackType                        0\n",
      "dropbackDistance                    0\n",
      "passLocationType                    0\n",
      "timeToThrow                         0\n",
      "timeInTackleBox                     0\n",
      "timeToSack                          0\n",
      "passTippedAtLine                    0\n",
      "unblockedPressure                   0\n",
      "qbSpike                             0\n",
      "qbKneel                             0\n",
      "qbSneak                             0\n",
      "rushLocationType                    0\n",
      "penaltyYards                        0\n",
      "prePenaltyYardsGained               0\n",
      "yardsGained                         0\n",
      "homeTeamWinProbabilityAdded         0\n",
      "visitorTeamWinProbilityAdded        0\n",
      "expectedPointsAdded                 0\n",
      "isDropback                          0\n",
      "pff_runConceptPrimary               0\n",
      "pff_runConceptSecondary             0\n",
      "pff_runPassOption                   0\n",
      "pff_passCoverage                    0\n",
      "pff_manZone                         0\n",
      "dtype: int64\n"
     ]
    }
   ],
   "source": [
    "print(df_plays.isnull().sum())"
   ]
  },
  {
   "cell_type": "code",
   "execution_count": 17,
   "metadata": {
    "colab": {
     "base_uri": "https://localhost:8080/"
    },
    "id": "mrRfEBmhTc-z",
    "outputId": "be9ae5cb-89fb-4776-c27d-638b71b66193"
   },
   "outputs": [
    {
     "name": "stdout",
     "output_type": "stream",
     "text": [
      "       gameId  playId                                    playDescription  \\\n",
      "0  2022102302    2655  (1:54) (Shotgun) J.Burrow pass short middle to...   \n",
      "1  2022091809    3698  (2:13) (Shotgun) J.Burrow pass short right to ...   \n",
      "2  2022103004    3146  (2:00) (Shotgun) D.Mills pass short right to D...   \n",
      "3  2022110610     348  (9:28) (Shotgun) P.Mahomes pass short left to ...   \n",
      "4  2022102700    2799  (2:16) (Shotgun) L.Jackson up the middle to TB...   \n",
      "\n",
      "   quarter  down  yardsToGo possessionTeam defensiveTeam yardlineSide  \\\n",
      "0        3     1         10            CIN           ATL          CIN   \n",
      "1        4     1         10            CIN           DAL          CIN   \n",
      "2        4     3         12            HOU           TEN          HOU   \n",
      "3        1     2         10             KC           TEN          TEN   \n",
      "4        3     2          8            BAL            TB           TB   \n",
      "\n",
      "   yardlineNumber  ... yardsGained  homeTeamWinProbabilityAdded  \\\n",
      "0              21  ...           9                     0.004634   \n",
      "1               8  ...           4                     0.002847   \n",
      "2              20  ...           6                     0.000205   \n",
      "3              23  ...           4                    -0.001308   \n",
      "4              27  ...          -1                     0.027141   \n",
      "\n",
      "   visitorTeamWinProbilityAdded expectedPointsAdded  isDropback  \\\n",
      "0                     -0.004634            0.702717        True   \n",
      "1                     -0.002847           -0.240509        True   \n",
      "2                     -0.000205           -0.218480        True   \n",
      "3                      0.001308           -0.427749        True   \n",
      "4                     -0.027141           -0.638912       False   \n",
      "\n",
      "   pff_runConceptPrimary  pff_runConceptSecondary  pff_runPassOption  \\\n",
      "0                      0                        0                  0   \n",
      "1                      0                        0                  0   \n",
      "2                      0                        0                  0   \n",
      "3                      0                        0                  0   \n",
      "4                    MAN              READ OPTION                  0   \n",
      "\n",
      "  pff_passCoverage pff_manZone  \n",
      "0          Cover-3        Zone  \n",
      "1         Quarters        Zone  \n",
      "2         Quarters        Zone  \n",
      "3         Quarters        Zone  \n",
      "4          Cover-1         Man  \n",
      "\n",
      "[5 rows x 50 columns]\n"
     ]
    }
   ],
   "source": [
    "print(df_plays.head())"
   ]
  },
  {
   "cell_type": "code",
   "execution_count": 18,
   "metadata": {
    "colab": {
     "base_uri": "https://localhost:8080/"
    },
    "id": "4SA1yGkEV7vK",
    "outputId": "8295814d-3a50-408a-9a23-2a68af769bcd"
   },
   "outputs": [
    {
     "name": "stdout",
     "output_type": "stream",
     "text": [
      "<class 'pandas.core.frame.DataFrame'>\n",
      "RangeIndex: 16124 entries, 0 to 16123\n",
      "Data columns (total 50 columns):\n",
      " #   Column                            Non-Null Count  Dtype  \n",
      "---  ------                            --------------  -----  \n",
      " 0   gameId                            16124 non-null  int64  \n",
      " 1   playId                            16124 non-null  int64  \n",
      " 2   playDescription                   16124 non-null  object \n",
      " 3   quarter                           16124 non-null  int64  \n",
      " 4   down                              16124 non-null  int64  \n",
      " 5   yardsToGo                         16124 non-null  int64  \n",
      " 6   possessionTeam                    16124 non-null  object \n",
      " 7   defensiveTeam                     16124 non-null  object \n",
      " 8   yardlineSide                      16124 non-null  object \n",
      " 9   yardlineNumber                    16124 non-null  int64  \n",
      " 10  gameClock                         16124 non-null  object \n",
      " 11  preSnapHomeScore                  16124 non-null  int64  \n",
      " 12  preSnapVisitorScore               16124 non-null  int64  \n",
      " 13  playNullifiedByPenalty            16124 non-null  object \n",
      " 14  absoluteYardlineNumber            16124 non-null  int64  \n",
      " 15  preSnapHomeTeamWinProbability     16124 non-null  float64\n",
      " 16  preSnapVisitorTeamWinProbability  16124 non-null  float64\n",
      " 17  expectedPoints                    16124 non-null  float64\n",
      " 18  offenseFormation                  16124 non-null  object \n",
      " 19  receiverAlignment                 16124 non-null  object \n",
      " 20  playClockAtSnap                   16124 non-null  float64\n",
      " 21  passResult                        16124 non-null  object \n",
      " 22  passLength                        16124 non-null  float64\n",
      " 23  targetX                           16124 non-null  float64\n",
      " 24  targetY                           16124 non-null  float64\n",
      " 25  playAction                        16124 non-null  bool   \n",
      " 26  dropbackType                      16124 non-null  object \n",
      " 27  dropbackDistance                  16124 non-null  float64\n",
      " 28  passLocationType                  16124 non-null  object \n",
      " 29  timeToThrow                       16124 non-null  float64\n",
      " 30  timeInTackleBox                   16124 non-null  float64\n",
      " 31  timeToSack                        16124 non-null  float64\n",
      " 32  passTippedAtLine                  16124 non-null  object \n",
      " 33  unblockedPressure                 16124 non-null  object \n",
      " 34  qbSpike                           16124 non-null  object \n",
      " 35  qbKneel                           16124 non-null  int64  \n",
      " 36  qbSneak                           16124 non-null  object \n",
      " 37  rushLocationType                  16124 non-null  object \n",
      " 38  penaltyYards                      16124 non-null  float64\n",
      " 39  prePenaltyYardsGained             16124 non-null  int64  \n",
      " 40  yardsGained                       16124 non-null  int64  \n",
      " 41  homeTeamWinProbabilityAdded       16124 non-null  float64\n",
      " 42  visitorTeamWinProbilityAdded      16124 non-null  float64\n",
      " 43  expectedPointsAdded               16124 non-null  float64\n",
      " 44  isDropback                        16124 non-null  bool   \n",
      " 45  pff_runConceptPrimary             16124 non-null  object \n",
      " 46  pff_runConceptSecondary           16124 non-null  object \n",
      " 47  pff_runPassOption                 16124 non-null  int64  \n",
      " 48  pff_passCoverage                  16124 non-null  object \n",
      " 49  pff_manZone                       16124 non-null  object \n",
      "dtypes: bool(2), float64(15), int64(13), object(20)\n",
      "memory usage: 5.9+ MB\n"
     ]
    }
   ],
   "source": [
    "df_plays.info()"
   ]
  },
  {
   "cell_type": "code",
   "execution_count": 19,
   "metadata": {
    "colab": {
     "base_uri": "https://localhost:8080/"
    },
    "id": "oc0zrnvcY83o",
    "outputId": "1cdcf28a-678e-4b19-ef71-6866b7744adb"
   },
   "outputs": [
    {
     "name": "stdout",
     "output_type": "stream",
     "text": [
      "             gameId  playId    nflId  displayName  frameId   frameType  \\\n",
      "3741429  2022091106    3437  43454.0  Tyreek Hill      184  AFTER_SNAP   \n",
      "3741430  2022091106    3437  43454.0  Tyreek Hill      185  AFTER_SNAP   \n",
      "3741431  2022091106    3437  43454.0  Tyreek Hill      186  AFTER_SNAP   \n",
      "3741432  2022091106    3437  43454.0  Tyreek Hill      187  AFTER_SNAP   \n",
      "3741433  2022091106    3437  43454.0  Tyreek Hill      188  AFTER_SNAP   \n",
      "\n",
      "                          time  jerseyNumber club playDirection      x      y  \\\n",
      "3741429  2022-09-11 19:48:53.8          10.0  MIA         right  95.88  33.46   \n",
      "3741430  2022-09-11 19:48:53.9          10.0  MIA         right  96.00  33.29   \n",
      "3741431    2022-09-11 19:48:54          10.0  MIA         right  96.12  33.13   \n",
      "3741432  2022-09-11 19:48:54.1          10.0  MIA         right  96.22  32.97   \n",
      "3741433  2022-09-11 19:48:54.2          10.0  MIA         right  96.30  32.83   \n",
      "\n",
      "            s     a   dis       o     dir   event  \n",
      "3741429  2.12  1.20  0.22  138.29  140.86  tackle  \n",
      "3741430  2.02  1.24  0.21  140.93  144.29       0  \n",
      "3741431  1.90  1.22  0.19  142.92  146.31       0  \n",
      "3741432  1.80  1.16  0.18  145.75  148.27       0  \n",
      "3741433  1.67  1.24  0.17  149.83  151.01       0  \n"
     ]
    }
   ],
   "source": [
    "df_week2.fillna(0, inplace = True)\n",
    "data2 = df_week2[df_week2['nflId'] == 43454]\n",
    "print(data2.tail())"
   ]
  },
  {
   "cell_type": "code",
   "execution_count": 8,
   "metadata": {
    "id": "DGXFgIkzdxyE"
   },
   "outputs": [],
   "source": [
    "df_player_play = pd.read_csv(\"nfl-big-data-bowl-2025/player_play.csv\")"
   ]
  },
  {
   "cell_type": "code",
   "execution_count": 9,
   "metadata": {
    "colab": {
     "base_uri": "https://localhost:8080/"
    },
    "id": "ia0MzgWZSKf0",
    "outputId": "f2bdbfa2-6c04-4df0-cfc4-2ca220e4625b"
   },
   "outputs": [
    {
     "data": {
      "text/plain": [
       "(354727, 50)"
      ]
     },
     "execution_count": 9,
     "metadata": {},
     "output_type": "execute_result"
    }
   ],
   "source": [
    "df_player_play.shape"
   ]
  },
  {
   "cell_type": "code",
   "execution_count": 10,
   "metadata": {
    "colab": {
     "base_uri": "https://localhost:8080/"
    },
    "id": "sNkIWzz3eZQX",
    "outputId": "a5fd4c32-f278-4d9f-fe98-1c13c52a7263"
   },
   "outputs": [
    {
     "name": "stdout",
     "output_type": "stream",
     "text": [
      "            gameId  playId  nflId teamAbbr  hadRushAttempt  rushingYards  \\\n",
      "20153   2022091106     290  43454      MIA               0             0   \n",
      "20175   2022091106     314  43454      MIA               0             0   \n",
      "20197   2022091106     338  43454      MIA               0             0   \n",
      "20241   2022091106     380  43454      MIA               0             0   \n",
      "20263   2022091106     442  43454      MIA               0             0   \n",
      "...            ...     ...    ...      ...             ...           ...   \n",
      "328230  2022110601    3018  43454      MIA               0             0   \n",
      "328252  2022110601    3094  43454      MIA               0             0   \n",
      "328275  2022110601    3188  43454      MIA               0             0   \n",
      "328495  2022110601    3456  43454      MIA               0             0   \n",
      "328517  2022110601    3484  43454      MIA               0             0   \n",
      "\n",
      "        hadDropback  passingYards  sackYardsAsOffense  hadPassReception  ...  \\\n",
      "20153             0             0                   0                 0  ...   \n",
      "20175             0             0                   0                 1  ...   \n",
      "20197             0             0                   0                 0  ...   \n",
      "20241             0             0                   0                 0  ...   \n",
      "20263             0             0                   0                 1  ...   \n",
      "...             ...           ...                 ...               ...  ...   \n",
      "328230            0             0                   0                 0  ...   \n",
      "328252            0             0                   0                 0  ...   \n",
      "328275            0             0                   0                 0  ...   \n",
      "328495            0             0                   0                 0  ...   \n",
      "328517            0             0                   0                 0  ...   \n",
      "\n",
      "        wasRunningRoute  routeRan  blockedPlayerNFLId1  blockedPlayerNFLId2  \\\n",
      "20153               1.0        GO                  NaN                  NaN   \n",
      "20175               1.0       OUT                  NaN                  NaN   \n",
      "20197               NaN       NaN                  NaN                  NaN   \n",
      "20241               1.0        GO                  NaN                  NaN   \n",
      "20263               1.0       OUT                  NaN                  NaN   \n",
      "...                 ...       ...                  ...                  ...   \n",
      "328230              1.0      POST                  NaN                  NaN   \n",
      "328252              1.0        IN                  NaN                  NaN   \n",
      "328275              1.0     CROSS                  NaN                  NaN   \n",
      "328495              NaN       NaN                  NaN                  NaN   \n",
      "328517              1.0      POST                  NaN                  NaN   \n",
      "\n",
      "        blockedPlayerNFLId3  pressureAllowedAsBlocker  \\\n",
      "20153                   NaN                       NaN   \n",
      "20175                   NaN                       NaN   \n",
      "20197                   NaN                       NaN   \n",
      "20241                   NaN                       NaN   \n",
      "20263                   NaN                       NaN   \n",
      "...                     ...                       ...   \n",
      "328230                  NaN                       NaN   \n",
      "328252                  NaN                       NaN   \n",
      "328275                  NaN                       NaN   \n",
      "328495                  NaN                       NaN   \n",
      "328517                  NaN                       NaN   \n",
      "\n",
      "        timeToPressureAllowedAsBlocker  pff_defensiveCoverageAssignment  \\\n",
      "20153                              NaN                              NaN   \n",
      "20175                              NaN                              NaN   \n",
      "20197                              NaN                              NaN   \n",
      "20241                              NaN                              NaN   \n",
      "20263                              NaN                              NaN   \n",
      "...                                ...                              ...   \n",
      "328230                             NaN                              NaN   \n",
      "328252                             NaN                              NaN   \n",
      "328275                             NaN                              NaN   \n",
      "328495                             NaN                              NaN   \n",
      "328517                             NaN                              NaN   \n",
      "\n",
      "        pff_primaryDefensiveCoverageMatchupNflId  \\\n",
      "20153                                        NaN   \n",
      "20175                                        NaN   \n",
      "20197                                        NaN   \n",
      "20241                                        NaN   \n",
      "20263                                        NaN   \n",
      "...                                          ...   \n",
      "328230                                       NaN   \n",
      "328252                                       NaN   \n",
      "328275                                       NaN   \n",
      "328495                                       NaN   \n",
      "328517                                       NaN   \n",
      "\n",
      "        pff_secondaryDefensiveCoverageMatchupNflId  \n",
      "20153                                          NaN  \n",
      "20175                                          NaN  \n",
      "20197                                          NaN  \n",
      "20241                                          NaN  \n",
      "20263                                          NaN  \n",
      "...                                            ...  \n",
      "328230                                         NaN  \n",
      "328252                                         NaN  \n",
      "328275                                         NaN  \n",
      "328495                                         NaN  \n",
      "328517                                         NaN  \n",
      "\n",
      "[402 rows x 50 columns]\n"
     ]
    }
   ],
   "source": [
    "p = df_player_play[df_player_play['nflId'] == 43454]\n",
    "print(p)"
   ]
  },
  {
   "cell_type": "code",
   "execution_count": 11,
   "metadata": {
    "colab": {
     "base_uri": "https://localhost:8080/"
    },
    "id": "AN3MIt7YeC_4",
    "outputId": "fe6edf77-6725-4f47-c2e5-5972d9a55d2e"
   },
   "outputs": [
    {
     "name": "stderr",
     "output_type": "stream",
     "text": [
      "/tmp/ipykernel_2486064/1041900704.py:1: FutureWarning: A value is trying to be set on a copy of a DataFrame or Series through chained assignment using an inplace method.\n",
      "The behavior will change in pandas 3.0. This inplace method will never work because the intermediate object on which we are setting values always behaves as a copy.\n",
      "\n",
      "For example, when doing 'df[col].method(value, inplace=True)', try using 'df.method({col: value}, inplace=True)' or df[col] = df[col].method(value) instead, to perform the operation inplace on the original object.\n",
      "\n",
      "\n",
      "  df_player_play['inMotionAtBallSnap'].fillna('False', inplace = True)\n"
     ]
    }
   ],
   "source": [
    "df_player_play['inMotionAtBallSnap'].fillna('False', inplace = True)"
   ]
  },
  {
   "cell_type": "code",
   "execution_count": 12,
   "metadata": {
    "id": "DVGMs8L0LIGr"
   },
   "outputs": [],
   "source": [
    "df_player_play.fillna(0, inplace = True)"
   ]
  },
  {
   "cell_type": "code",
   "execution_count": 25,
   "metadata": {
    "colab": {
     "base_uri": "https://localhost:8080/"
    },
    "id": "gPc7b62CfaLd",
    "outputId": "d0b1c779-7ffe-4910-ab5a-d2f30fae5b8c"
   },
   "outputs": [
    {
     "name": "stdout",
     "output_type": "stream",
     "text": [
      "       receivingYards inMotionAtBallSnap  playId      gameId\n",
      "21187              -1               True    1819  2022091106\n"
     ]
    }
   ],
   "source": [
    "unsucc = df_player_play[(df_player_play['nflId'] == 43454)\n",
    "                      & (df_player_play['receivingYards'] < 0)\n",
    "                      & (df_player_play['gameId'] == 2022091106)]\n",
    "print(unsucc[['receivingYards','inMotionAtBallSnap','playId','gameId']])"
   ]
  },
  {
   "cell_type": "code",
   "execution_count": 26,
   "metadata": {
    "colab": {
     "base_uri": "https://localhost:8080/"
    },
    "id": "qTpDsFI-O2yp",
    "outputId": "41b7d4a6-289f-4ffe-d868-b228f54ecc58"
   },
   "outputs": [
    {
     "name": "stdout",
     "output_type": "stream",
     "text": [
      "       receivingYards inMotionAtBallSnap  playId      gameId\n",
      "20263              23               True     442  2022091106\n",
      "21012              26               True    1544  2022091106\n"
     ]
    }
   ],
   "source": [
    "succ = df_player_play[(df_player_play['nflId'] == 43454)\n",
    "                      & (df_player_play['receivingYards'] > 20)\n",
    "                      & (df_player_play['gameId'] == 2022091106)]\n",
    "print(succ[['receivingYards','inMotionAtBallSnap','playId','gameId']])"
   ]
  },
  {
   "cell_type": "code",
   "execution_count": 27,
   "metadata": {
    "colab": {
     "base_uri": "https://localhost:8080/"
    },
    "id": "xXSuAyuUO9IU",
    "outputId": "5b53f466-8c67-4aff-8a4c-a1dffbc3c035"
   },
   "outputs": [
    {
     "name": "stdout",
     "output_type": "stream",
     "text": [
      "         playId   dis\n",
      "1852213    1819  0.09\n",
      "1852214    1819  0.09\n",
      "1852215    1819  0.08\n",
      "1852216    1819  0.08\n",
      "1852217    1819  0.08\n",
      "...         ...   ...\n",
      "3562741    1819  0.26\n",
      "3562742    1819  0.24\n",
      "3562743    1819  0.25\n",
      "3562744    1819  0.12\n",
      "3562745    1819  0.15\n",
      "\n",
      "[7015 rows x 2 columns]\n"
     ]
    }
   ],
   "source": [
    "neg_plays = df_week1[df_week1['playId'].isin(unsucc['playId'])]\n",
    "print(neg_plays[['playId','dis']])"
   ]
  },
  {
   "cell_type": "code",
   "execution_count": 28,
   "metadata": {
    "colab": {
     "base_uri": "https://localhost:8080/"
    },
    "id": "bJ9xc-EzRe_n",
    "outputId": "d3c35d53-a807-4b4a-afc1-a70bf4e5dbdd"
   },
   "outputs": [
    {
     "name": "stdout",
     "output_type": "stream",
     "text": [
      "         playId   dis\n",
      "2688447    1544  0.21\n",
      "2688448    1544  0.19\n",
      "2688449    1544  0.17\n",
      "2688450    1544  0.14\n",
      "2688451    1544  0.12\n",
      "...         ...   ...\n",
      "3536176    1544  0.11\n",
      "3536177    1544  0.12\n",
      "3536178    1544  0.11\n",
      "3536179    1544  0.10\n",
      "3536180    1544  0.11\n",
      "\n",
      "[12443 rows x 2 columns]\n"
     ]
    }
   ],
   "source": [
    "pos_plays = df_week1[df_week1['playId'].isin(succ['playId'])]\n",
    "print(pos_plays[['playId','dis']])"
   ]
  },
  {
   "cell_type": "code",
   "execution_count": null,
   "metadata": {
    "colab": {
     "base_uri": "https://localhost:8080/"
    },
    "id": "TmxMPwfMIGYD",
    "outputId": "8f44fb39-2550-4ba8-b212-61c07a61e650"
   },
   "outputs": [
    {
     "name": "stdout",
     "output_type": "stream",
     "text": [
      "            gameId  playId  nflId teamAbbr  hadRushAttempt  rushingYards  \\\n",
      "7866    2022091102     218  40078       SF               0             0   \n",
      "8086    2022091102     552  40078       SF               0             0   \n",
      "8108    2022091102     574  40078       SF               0             0   \n",
      "8130    2022091102     595  40078       SF               0             0   \n",
      "8240    2022091102     900  40078       SF               0             0   \n",
      "...            ...     ...    ...      ...             ...           ...   \n",
      "276199  2022102310    4020  40078       SF               0             0   \n",
      "276221  2022102310    4041  40078       SF               0             0   \n",
      "276243  2022102310    4097  40078       SF               0             0   \n",
      "276265  2022102310    4121  40078       SF               0             0   \n",
      "276287  2022102310    4149  40078       SF               0             0   \n",
      "\n",
      "        hadDropback  passingYards  sackYardsAsOffense  hadPassReception  ...  \\\n",
      "7866              0             0                   0                 0  ...   \n",
      "8086              0             0                   0                 0  ...   \n",
      "8108              0             0                   0                 0  ...   \n",
      "8130              0             0                   0                 0  ...   \n",
      "8240              0             0                   0                 0  ...   \n",
      "...             ...           ...                 ...               ...  ...   \n",
      "276199            0             0                   0                 0  ...   \n",
      "276221            0             0                   0                 1  ...   \n",
      "276243            0             0                   0                 1  ...   \n",
      "276265            0             0                   0                 0  ...   \n",
      "276287            0             0                   0                 0  ...   \n",
      "\n",
      "        wasRunningRoute  routeRan  blockedPlayerNFLId1  blockedPlayerNFLId2  \\\n",
      "7866                0.0         0                  0.0                  0.0   \n",
      "8086                1.0      FLAT                  0.0                  0.0   \n",
      "8108                0.0         0                  0.0                  0.0   \n",
      "8130                1.0        GO                  0.0                  0.0   \n",
      "8240                0.0         0                  0.0                  0.0   \n",
      "...                 ...       ...                  ...                  ...   \n",
      "276199              0.0         0                  0.0                  0.0   \n",
      "276221              1.0     ANGLE                  0.0                  0.0   \n",
      "276243              1.0       OUT                  0.0                  0.0   \n",
      "276265              1.0       OUT                  0.0                  0.0   \n",
      "276287              1.0     ANGLE                  0.0                  0.0   \n",
      "\n",
      "        blockedPlayerNFLId3  pressureAllowedAsBlocker  \\\n",
      "7866                    0.0                       0.0   \n",
      "8086                    0.0                       0.0   \n",
      "8108                    0.0                       0.0   \n",
      "8130                    0.0                       0.0   \n",
      "8240                    0.0                       0.0   \n",
      "...                     ...                       ...   \n",
      "276199                  0.0                       0.0   \n",
      "276221                  0.0                       0.0   \n",
      "276243                  0.0                       0.0   \n",
      "276265                  0.0                       0.0   \n",
      "276287                  0.0                       0.0   \n",
      "\n",
      "        timeToPressureAllowedAsBlocker  pff_defensiveCoverageAssignment  \\\n",
      "7866                               0.0                                0   \n",
      "8086                               0.0                                0   \n",
      "8108                               0.0                                0   \n",
      "8130                               0.0                                0   \n",
      "8240                               0.0                                0   \n",
      "...                                ...                              ...   \n",
      "276199                             0.0                                0   \n",
      "276221                             0.0                                0   \n",
      "276243                             0.0                                0   \n",
      "276265                             0.0                                0   \n",
      "276287                             0.0                                0   \n",
      "\n",
      "        pff_primaryDefensiveCoverageMatchupNflId  \\\n",
      "7866                                         0.0   \n",
      "8086                                         0.0   \n",
      "8108                                         0.0   \n",
      "8130                                         0.0   \n",
      "8240                                         0.0   \n",
      "...                                          ...   \n",
      "276199                                       0.0   \n",
      "276221                                       0.0   \n",
      "276243                                       0.0   \n",
      "276265                                       0.0   \n",
      "276287                                       0.0   \n",
      "\n",
      "        pff_secondaryDefensiveCoverageMatchupNflId  \n",
      "7866                                           0.0  \n",
      "8086                                           0.0  \n",
      "8108                                           0.0  \n",
      "8130                                           0.0  \n",
      "8240                                           0.0  \n",
      "...                                            ...  \n",
      "276199                                         0.0  \n",
      "276221                                         0.0  \n",
      "276243                                         0.0  \n",
      "276265                                         0.0  \n",
      "276287                                         0.0  \n",
      "\n",
      "[215 rows x 50 columns]\n"
     ]
    }
   ],
   "source": [
    "kyle = df_player_play[df_player_play['nflId'] == 40078]\n",
    "print(kyle)"
   ]
  },
  {
   "cell_type": "code",
   "execution_count": null,
   "metadata": {
    "colab": {
     "base_uri": "https://localhost:8080/"
    },
    "id": "q0SeDnS6M8jg",
    "outputId": "8970bfbb-eb00-42ae-9851-e60dc06042f0"
   },
   "outputs": [
    {
     "name": "stdout",
     "output_type": "stream",
     "text": [
      "       receivingYards inMotionAtBallSnap  playId      gameId\n",
      "7866                0              False     218  2022091102\n",
      "8086                0              False     552  2022091102\n",
      "8108                0              False     574  2022091102\n",
      "8130                0              False     595  2022091102\n",
      "8240                0               True     900  2022091102\n",
      "8262                0              False     921  2022091102\n",
      "8460                0              False    1204  2022091102\n",
      "8482                0              False    1265  2022091102\n",
      "8592                0              False    1472  2022091102\n",
      "8636                0              False    1562  2022091102\n",
      "8658                0              False    1588  2022091102\n",
      "9076                0              False    2281  2022091102\n",
      "9098                0              False    2302  2022091102\n",
      "9142                0              False    2352  2022091102\n",
      "9164                0              False    2373  2022091102\n",
      "9186                0              False    2394  2022091102\n",
      "9230                0              False    2436  2022091102\n",
      "9406                0              False    2759  2022091102\n",
      "9472                0              False    2837  2022091102\n",
      "9758                0              False    3336  2022091102\n",
      "9824                0              False    3402  2022091102\n",
      "9956                0                  0    3652  2022091102\n",
      "10110               0               True    3899  2022091102\n",
      "10132               0              False    3921  2022091102\n",
      "10220               0              False    4080  2022091102\n"
     ]
    }
   ],
   "source": [
    "unsucc_kyle = df_player_play[(df_player_play['nflId'] == 40078)\n",
    "                      & (df_player_play['receivingYards'] < 10)\n",
    "                      & (df_player_play['gameId'] == 2022091102)]\n",
    "print(unsucc_kyle[['receivingYards','inMotionAtBallSnap','playId','gameId']])"
   ]
  },
  {
   "cell_type": "code",
   "execution_count": null,
   "metadata": {
    "colab": {
     "base_uri": "https://localhost:8080/"
    },
    "id": "jPJGW3U1I2e_",
    "outputId": "ed08eb45-ff93-4331-f38e-ab446ace69fa"
   },
   "outputs": [
    {
     "name": "stdout",
     "output_type": "stream",
     "text": [
      "        receivingYards inMotionAtBallSnap  playId      gameId\n",
      "165363              35              False    2578  2022100300\n"
     ]
    }
   ],
   "source": [
    "succ_kyle = df_player_play[(df_player_play['nflId'] == 40078)\n",
    "                      & (df_player_play['receivingYards'] > 20)\n",
    "                      & (df_player_play['gameId'] == 2022100300)]\n",
    "print(succ_kyle[['receivingYards','inMotionAtBallSnap','playId','gameId']])"
   ]
  },
  {
   "cell_type": "code",
   "execution_count": 13,
   "metadata": {
    "id": "ou6mrHRIojGy"
   },
   "outputs": [],
   "source": [
    "df_week1_selected = df_week1[['gameId', 'playId', 'nflId', 'displayName', 'frameType', 'playDirection', 'dis']]\n",
    "df_player_play_selected = df_player_play[['gameId', 'playId','nflId', 'receivingYards', 'inMotionAtBallSnap']]\n",
    "merged_data = pd.merge(df_week1_selected, df_player_play_selected, on=['gameId','playId','nflId'], how='left')\n",
    "merged_data.to_csv('merged_output.csv', index=False)\n"
   ]
  },
  {
   "cell_type": "code",
   "execution_count": 1,
   "metadata": {
    "colab": {
     "base_uri": "https://localhost:8080/"
    },
    "id": "XvUlq4bvwAC_",
    "outputId": "158ed99e-f198-4c63-e05e-e0908c9401ae"
   },
   "outputs": [
    {
     "name": "stdout",
     "output_type": "stream",
     "text": [
      "(7104700, 9)\n"
     ]
    }
   ],
   "source": [
    "import pandas as pd\n",
    "df = pd.read_csv('merged_output.csv')\n",
    "print(df.shape)"
   ]
  },
  {
   "cell_type": "code",
   "execution_count": 2,
   "metadata": {
    "colab": {
     "base_uri": "https://localhost:8080/"
    },
    "id": "vKwXAQCCIscq",
    "outputId": "4c2b194d-64c1-4936-f074-f88e1f9a9bd1"
   },
   "outputs": [
    {
     "name": "stdout",
     "output_type": "stream",
     "text": [
      "gameId                     0\n",
      "playId                     0\n",
      "nflId                      0\n",
      "displayName                0\n",
      "frameType                  0\n",
      "playDirection              0\n",
      "dis                        0\n",
      "receivingYards        308900\n",
      "inMotionAtBallSnap    308900\n",
      "dtype: int64\n"
     ]
    }
   ],
   "source": [
    "print(df.isna().sum())"
   ]
  },
  {
   "cell_type": "code",
   "execution_count": 3,
   "metadata": {},
   "outputs": [
    {
     "name": "stdout",
     "output_type": "stream",
     "text": [
      "1184\n"
     ]
    }
   ],
   "source": [
    "print(df['nflId'].nunique())"
   ]
  },
  {
   "cell_type": "code",
   "execution_count": 17,
   "metadata": {},
   "outputs": [
    {
     "name": "stdout",
     "output_type": "stream",
     "text": [
      "nflId\n",
      "0.0        308900\n",
      "25511.0      8595\n",
      "29851.0      8470\n",
      "30842.0      3565\n",
      "33084.0     14705\n",
      "            ...  \n",
      "55045.0      5618\n",
      "55105.0       319\n",
      "55157.0       313\n",
      "55158.0      4690\n",
      "55173.0      2721\n",
      "Length: 1184, dtype: int64\n"
     ]
    }
   ],
   "source": [
    "rows_per_player = df.groupby('nflId').size()\n",
    "print(rows_per_player)"
   ]
  },
  {
   "cell_type": "code",
   "execution_count": 4,
   "metadata": {},
   "outputs": [
    {
     "name": "stdout",
     "output_type": "stream",
     "text": [
      "nflId\n",
      "0.0        4.347826\n",
      "25511.0    0.120976\n",
      "29851.0    0.119217\n",
      "30842.0    0.050178\n",
      "33084.0    0.206976\n",
      "             ...   \n",
      "55045.0    0.079074\n",
      "55105.0    0.004490\n",
      "55157.0    0.004406\n",
      "55158.0    0.066013\n",
      "55173.0    0.038299\n",
      "Length: 1184, dtype: float64\n"
     ]
    }
   ],
   "source": [
    "# Step 1: Count the number of rows for each player\n",
    "rows_per_player = df.groupby('nflId').size()\n",
    "\n",
    "# Step 2: Calculate the percentage for each player\n",
    "total_rows = len(df)\n",
    "percentage_per_player = (rows_per_player / total_rows) * 100\n",
    "\n",
    "# Step 3: Display the results\n",
    "print(percentage_per_player)\n"
   ]
  },
  {
   "cell_type": "code",
   "execution_count": 2,
   "metadata": {},
   "outputs": [
    {
     "name": "stdout",
     "output_type": "stream",
     "text": [
      "Final dataset size: 1000031\n",
      "nflId\n",
      "0.0        0.043477\n",
      "43497.0    0.002070\n",
      "46106.0    0.002070\n",
      "46075.0    0.002070\n",
      "54502.0    0.002070\n",
      "             ...   \n",
      "52762.0    0.000016\n",
      "45217.0    0.000013\n",
      "43474.0    0.000013\n",
      "54673.0    0.000009\n",
      "53586.0    0.000008\n",
      "Name: proportion, Length: 1184, dtype: float64\n"
     ]
    },
    {
     "name": "stderr",
     "output_type": "stream",
     "text": [
      "/tmp/ipykernel_205296/1156557131.py:15: DeprecationWarning: DataFrameGroupBy.apply operated on the grouping columns. This behavior is deprecated, and in a future version of pandas the grouping columns will be excluded from the operation. Either pass `include_groups=False` to exclude the groupings or explicitly select the grouping columns after groupby to silence this warning.\n",
      "  sampled_df = df.groupby('nflId').apply(lambda group: group.sample(n=sampled_rows_per_player[group.name], random_state=42))\n"
     ]
    }
   ],
   "source": [
    "import pandas as pd\n",
    "\n",
    "# Step 1: Define the desired dataset size\n",
    "desired_total_size = 1000000  # Example target size\n",
    "total_rows = len(df)\n",
    "\n",
    "# Step 2: Calculate the original percentage per player\n",
    "rows_per_player = df.groupby('nflId').size()\n",
    "percentage_per_player = rows_per_player / total_rows\n",
    "\n",
    "# Step 3: Calculate the number of rows to sample for each player\n",
    "sampled_rows_per_player = (percentage_per_player * desired_total_size).round().astype(int)\n",
    "\n",
    "# Step 4: Perform stratified sampling\n",
    "sampled_df = df.groupby('nflId').apply(lambda group: group.sample(n=sampled_rows_per_player[group.name], random_state=42))\n",
    "\n",
    "# Step 5: Reset index after sampling\n",
    "sampled_df = sampled_df.reset_index(drop=True)\n",
    "\n",
    "# Print the final dataset size and player distribution\n",
    "print(f\"Final dataset size: {len(sampled_df)}\")\n",
    "print(sampled_df['nflId'].value_counts(normalize=True))  # Check percentage per player\n"
   ]
  },
  {
   "cell_type": "code",
   "execution_count": 3,
   "metadata": {},
   "outputs": [
    {
     "name": "stdout",
     "output_type": "stream",
     "text": [
      "(1050013, 9)\n"
     ]
    }
   ],
   "source": [
    "print(sampled_df.shape)"
   ]
  },
  {
   "cell_type": "code",
   "execution_count": 4,
   "metadata": {},
   "outputs": [
    {
     "name": "stdout",
     "output_type": "stream",
     "text": [
      "gameId                    0\n",
      "playId                    0\n",
      "nflId                     0\n",
      "displayName               0\n",
      "frameType                 0\n",
      "playDirection             0\n",
      "dis                       0\n",
      "receivingYards        45652\n",
      "inMotionAtBallSnap    45652\n",
      "dtype: int64\n"
     ]
    }
   ],
   "source": [
    "print(sampled_df.isna().sum())"
   ]
  },
  {
   "cell_type": "code",
   "execution_count": 3,
   "metadata": {},
   "outputs": [
    {
     "name": "stderr",
     "output_type": "stream",
     "text": [
      "/tmp/ipykernel_205296/1991468844.py:1: FutureWarning: A value is trying to be set on a copy of a DataFrame or Series through chained assignment using an inplace method.\n",
      "The behavior will change in pandas 3.0. This inplace method will never work because the intermediate object on which we are setting values always behaves as a copy.\n",
      "\n",
      "For example, when doing 'df[col].method(value, inplace=True)', try using 'df.method({col: value}, inplace=True)' or df[col] = df[col].method(value) instead, to perform the operation inplace on the original object.\n",
      "\n",
      "\n",
      "  sampled_df['receivingYards'].fillna(0, inplace=True)\n"
     ]
    }
   ],
   "source": [
    "sampled_df['receivingYards'].fillna(0, inplace=True)"
   ]
  },
  {
   "cell_type": "code",
   "execution_count": 4,
   "metadata": {},
   "outputs": [
    {
     "name": "stderr",
     "output_type": "stream",
     "text": [
      "/tmp/ipykernel_205296/1729483773.py:2: FutureWarning: Downcasting object dtype arrays on .fillna, .ffill, .bfill is deprecated and will change in a future version. Call result.infer_objects(copy=False) instead. To opt-in to the future behavior, set `pd.set_option('future.no_silent_downcasting', True)`\n",
      "  sampled_df['inMotionAtBallSnap'] = sampled_df['inMotionAtBallSnap'].fillna(False).astype(bool)\n"
     ]
    }
   ],
   "source": [
    "# Fill NaN values with 0 (or use 1 depending on your requirement)\n",
    "sampled_df['inMotionAtBallSnap'] = sampled_df['inMotionAtBallSnap'].fillna(False).astype(bool)"
   ]
  },
  {
   "cell_type": "code",
   "execution_count": 5,
   "metadata": {},
   "outputs": [
    {
     "name": "stdout",
     "output_type": "stream",
     "text": [
      "gameId                0\n",
      "playId                0\n",
      "nflId                 0\n",
      "displayName           0\n",
      "frameType             0\n",
      "playDirection         0\n",
      "dis                   0\n",
      "receivingYards        0\n",
      "inMotionAtBallSnap    0\n",
      "dtype: int64\n"
     ]
    }
   ],
   "source": [
    "print(sampled_df.isna().sum())"
   ]
  },
  {
   "cell_type": "code",
   "execution_count": 6,
   "metadata": {
    "colab": {
     "base_uri": "https://localhost:8080/"
    },
    "id": "y6wlRr3XVKVH",
    "outputId": "ad46b666-1754-4c6c-8f60-b9b47bda1562"
   },
   "outputs": [
    {
     "name": "stdout",
     "output_type": "stream",
     "text": [
      "Requirement already satisfied: xgboost in ./.venv/lib/python3.10/site-packages (2.1.3)\n",
      "Requirement already satisfied: numpy in ./.venv/lib/python3.10/site-packages (from xgboost) (2.1.3)\n",
      "Requirement already satisfied: nvidia-nccl-cu12 in ./.venv/lib/python3.10/site-packages (from xgboost) (2.21.5)\n",
      "Requirement already satisfied: scipy in ./.venv/lib/python3.10/site-packages (from xgboost) (1.14.1)\n",
      "Note: you may need to restart the kernel to use updated packages.\n"
     ]
    }
   ],
   "source": [
    "pip install xgboost"
   ]
  },
  {
   "cell_type": "code",
   "execution_count": 7,
   "metadata": {
    "id": "_lZNgCYnyvqE"
   },
   "outputs": [],
   "source": [
    "sampled_df['frameType'] = sampled_df['frameType'].astype('category')\n",
    "sampled_df['playDirection'] = sampled_df['playDirection'].astype('category')\n",
    "sampled_df['displayName'] = sampled_df['displayName'].astype('category')"
   ]
  },
  {
   "cell_type": "code",
   "execution_count": 8,
   "metadata": {
    "id": "R1LcVWv-DvtJ"
   },
   "outputs": [],
   "source": [
    "sampled_df['inMotionAtBallSnap'] = pd.to_numeric(sampled_df['inMotionAtBallSnap'], errors='coerce')"
   ]
  },
  {
   "cell_type": "code",
   "execution_count": 9,
   "metadata": {},
   "outputs": [
    {
     "data": {
      "text/plain": [
       "<bound method Series.isna of 0          False\n",
       "1          False\n",
       "2          False\n",
       "3          False\n",
       "4          False\n",
       "           ...  \n",
       "1000026    False\n",
       "1000027    False\n",
       "1000028    False\n",
       "1000029    False\n",
       "1000030    False\n",
       "Name: inMotionAtBallSnap, Length: 1000031, dtype: bool>"
      ]
     },
     "execution_count": 9,
     "metadata": {},
     "output_type": "execute_result"
    }
   ],
   "source": [
    "sampled_df['inMotionAtBallSnap'].isna"
   ]
  },
  {
   "cell_type": "code",
   "execution_count": 10,
   "metadata": {},
   "outputs": [],
   "source": [
    "# Convert boolean columns to integers (True=1, False=0)\n",
    "sampled_df['inMotionAtBallSnap'] = sampled_df['inMotionAtBallSnap'].astype(int)"
   ]
  },
  {
   "cell_type": "code",
   "execution_count": 11,
   "metadata": {
    "id": "mCmA4Z001IIA"
   },
   "outputs": [],
   "source": [
    "from sklearn.preprocessing import LabelEncoder\n",
    "\n",
    "# Example: Encoding categorical columns (if they exist in your dataset)\n",
    "label_encoder = LabelEncoder()\n",
    "categorical_columns = ['displayName', 'frameType', 'playDirection']  # Replace with actual categorical columns\n",
    "\n",
    "for col in categorical_columns:\n",
    "    sampled_df[col] = label_encoder.fit_transform(sampled_df[col])\n",
    "\n",
    "sampled_df = pd.get_dummies(sampled_df, columns=categorical_columns)\n",
    "\n"
   ]
  },
  {
   "cell_type": "code",
   "execution_count": 44,
   "metadata": {},
   "outputs": [
    {
     "name": "stdout",
     "output_type": "stream",
     "text": [
      "Requirement already satisfied: imblearn in ./.venv/lib/python3.10/site-packages (0.0)\n",
      "Requirement already satisfied: imbalanced-learn in ./.venv/lib/python3.10/site-packages (from imblearn) (0.12.4)\n",
      "Requirement already satisfied: numpy>=1.17.3 in ./.venv/lib/python3.10/site-packages (from imbalanced-learn->imblearn) (2.1.3)\n",
      "Requirement already satisfied: scipy>=1.5.0 in ./.venv/lib/python3.10/site-packages (from imbalanced-learn->imblearn) (1.14.1)\n",
      "Requirement already satisfied: scikit-learn>=1.0.2 in ./.venv/lib/python3.10/site-packages (from imbalanced-learn->imblearn) (1.5.2)\n",
      "Requirement already satisfied: joblib>=1.1.1 in ./.venv/lib/python3.10/site-packages (from imbalanced-learn->imblearn) (1.4.2)\n",
      "Requirement already satisfied: threadpoolctl>=2.0.0 in ./.venv/lib/python3.10/site-packages (from imbalanced-learn->imblearn) (3.5.0)\n",
      "Note: you may need to restart the kernel to use updated packages.\n"
     ]
    }
   ],
   "source": [
    "pip install imblearn"
   ]
  },
  {
   "cell_type": "code",
   "execution_count": 12,
   "metadata": {},
   "outputs": [
    {
     "name": "stdout",
     "output_type": "stream",
     "text": [
      "Accuracy: 0.96\n",
      "Classification Report:\n",
      "               precision    recall  f1-score   support\n",
      "\n",
      "           0       1.00      0.96      0.98    393867\n",
      "           1       0.23      0.73      0.35      6146\n",
      "\n",
      "    accuracy                           0.96    400013\n",
      "   macro avg       0.61      0.85      0.66    400013\n",
      "weighted avg       0.98      0.96      0.97    400013\n",
      "\n",
      "Confusion matrix:\n",
      " [[378532  15335]\n",
      " [  1644   4502]]\n"
     ]
    },
    {
     "data": {
      "image/png": "[encoded data removed]",
      "text/plain": [
       "<Figure size 800x600 with 2 Axes>"
      ]
     },
     "metadata": {},
     "output_type": "display_data"
    },
    {
     "name": "stdout",
     "output_type": "stream",
     "text": [
      "Best parameters: {'n_estimators': 200, 'max_depth': 9, 'learning_rate': 0.1}\n"
     ]
    }
   ],
   "source": [
    "from imblearn.over_sampling import SMOTE\n",
    "from sklearn.model_selection import train_test_split, RandomizedSearchCV\n",
    "from sklearn.metrics import accuracy_score, classification_report, confusion_matrix\n",
    "from xgboost import XGBClassifier\n",
    "import matplotlib.pyplot as plt\n",
    "import seaborn as sns\n",
    "\n",
    "# Split data\n",
    "X = sampled_df.drop(columns=['inMotionAtBallSnap'])\n",
    "y = sampled_df['inMotionAtBallSnap']\n",
    "X_train, X_test, y_train, y_test = train_test_split(X, y, test_size=0.4, random_state=42)\n",
    "\n",
    "# Apply SMOTE with reduced neighbors\n",
    "smote = SMOTE(random_state=42, k_neighbors=3)\n",
    "X_train, y_train = smote.fit_resample(X_train, y_train)\n",
    "\n",
    "# Train XGBoost model\n",
    "xgb_model = XGBClassifier()\n",
    "xgb_model.fit(X_train, y_train)\n",
    "\n",
    "# Predict and evaluate\n",
    "y_pred = xgb_model.predict(X_test)\n",
    "accuracy = accuracy_score(y_test, y_pred)\n",
    "print(f\"Accuracy: {accuracy:.2f}\")\n",
    "print(\"Classification Report:\\n\", classification_report(y_test, y_pred))\n",
    "print(\"Confusion matrix:\\n\", confusion_matrix(y_test, y_pred))\n",
    "\n",
    "plt.figure(figsize=(8, 6))\n",
    "sns.heatmap(confusion_matrix(y_test, y_pred), annot=True, fmt='d', cmap='Blues', \n",
    "            xticklabels=['Motion', 'NO Motion'], yticklabels=['Motion', 'No Motion'])\n",
    "plt.ylabel('Actual Value')\n",
    "plt.xlabel('forecast Value')\n",
    "plt.title('Confusion matrix')\n",
    "plt.show()\n",
    "\n",
    "# Perform randomized search\n",
    "params = {\n",
    "    'max_depth': [3, 6, 9],\n",
    "    'learning_rate': [0.01, 0.1, 0.2],\n",
    "    'n_estimators': [50, 100, 200]\n",
    "}\n",
    "random_search = RandomizedSearchCV(\n",
    "    estimator=xgb_model, param_distributions=params, n_iter=10, cv=3, scoring='accuracy', random_state=42\n",
    ")\n",
    "random_search.fit(X_train, y_train)\n",
    "print(\"Best parameters:\", random_search.best_params_)\n"
   ]
  },
  {
   "cell_type": "code",
   "execution_count": 15,
   "metadata": {},
   "outputs": [],
   "source": [
    "# Save the model to a file\n",
    "xgb_model.save_model('xgboost_model.json')\n"
   ]
  },
  {
   "cell_type": "code",
   "execution_count": 2,
   "metadata": {},
   "outputs": [],
   "source": [
    "import pandas as pd\n",
    "df_plays = pd.read_csv(\"nfl-big-data-bowl-2025/plays.csv\")"
   ]
  },
  {
   "cell_type": "code",
   "execution_count": 7,
   "metadata": {},
   "outputs": [],
   "source": [
    "merged_data1 = df_week1.merge(df_plays, on=['gameId', 'playId'])\n",
    "merged_data1.to_csv('merged_output1.csv', index=False)\n"
   ]
  },
  {
   "cell_type": "code",
   "execution_count": 8,
   "metadata": {},
   "outputs": [
    {
     "name": "stderr",
     "output_type": "stream",
     "text": [
      "/tmp/ipykernel_193592/1395390798.py:2: DtypeWarning: Columns (37,42,44,48,49,50,52,53,61,62) have mixed types. Specify dtype option on import or set low_memory=False.\n",
      "  df1 = pd.read_csv('merged_output1.csv')\n"
     ]
    },
    {
     "name": "stdout",
     "output_type": "stream",
     "text": [
      "(7104700, 66)\n"
     ]
    }
   ],
   "source": [
    "import pandas as pd\n",
    "df1 = pd.read_csv('merged_output1.csv')\n",
    "print(df1.shape)"
   ]
  },
  {
   "cell_type": "code",
   "execution_count": 9,
   "metadata": {},
   "outputs": [
    {
     "name": "stdout",
     "output_type": "stream",
     "text": [
      "gameId                           0\n",
      "playId                           0\n",
      "nflId                       308900\n",
      "displayName                      0\n",
      "frameId                          0\n",
      "                            ...   \n",
      "pff_runConceptPrimary      3201738\n",
      "pff_runConceptSecondary    5873027\n",
      "pff_runPassOption                0\n",
      "pff_passCoverage             35259\n",
      "pff_manZone                  35259\n",
      "Length: 66, dtype: int64\n"
     ]
    }
   ],
   "source": [
    "print(df1.isna().sum())"
   ]
  },
  {
   "cell_type": "code",
   "execution_count": 10,
   "metadata": {},
   "outputs": [
    {
     "name": "stderr",
     "output_type": "stream",
     "text": [
      "/tmp/ipykernel_193592/563076121.py:15: DeprecationWarning: DataFrameGroupBy.apply operated on the grouping columns. This behavior is deprecated, and in a future version of pandas the grouping columns will be excluded from the operation. Either pass `include_groups=False` to exclude the groupings or explicitly select the grouping columns after groupby to silence this warning.\n",
      "  sampled_df1 = df1.groupby('nflId').apply(lambda group: group.sample(n=sampled_rows_per_player1[group.name], random_state=42))\n"
     ]
    },
    {
     "name": "stdout",
     "output_type": "stream",
     "text": [
      "Final dataset size: 956553\n",
      "nflId\n",
      "33084.0    0.002164\n",
      "46075.0    0.002164\n",
      "46106.0    0.002164\n",
      "54502.0    0.002164\n",
      "54468.0    0.002164\n",
      "             ...   \n",
      "53643.0    0.000017\n",
      "43474.0    0.000014\n",
      "45217.0    0.000014\n",
      "54673.0    0.000009\n",
      "53586.0    0.000008\n",
      "Name: proportion, Length: 1183, dtype: float64\n"
     ]
    }
   ],
   "source": [
    "import pandas as pd\n",
    "\n",
    "# Step 1: Define the desired dataset size\n",
    "desired_total_size1 = 1000000  # Example target size\n",
    "total_rows1 = len(df1)\n",
    "\n",
    "# Step 2: Calculate the original percentage per player\n",
    "rows_per_player1 = df1.groupby('nflId').size()\n",
    "percentage_per_player1 = rows_per_player1 / total_rows1\n",
    "\n",
    "# Step 3: Calculate the number of rows to sample for each player\n",
    "sampled_rows_per_player1 = (percentage_per_player1 * desired_total_size1).round().astype(int)\n",
    "\n",
    "# Step 4: Perform stratified sampling\n",
    "sampled_df1 = df1.groupby('nflId').apply(lambda group: group.sample(n=sampled_rows_per_player1[group.name], random_state=42))\n",
    "\n",
    "# Step 5: Reset index after sampling\n",
    "sampled_df1 = sampled_df1.reset_index(drop=True)\n",
    "\n",
    "# Print the final dataset size and player distribution\n",
    "print(f\"Final dataset size: {len(sampled_df1)}\")\n",
    "print(sampled_df1['nflId'].value_counts(normalize=True))  # Check percentage per player\n"
   ]
  },
  {
   "cell_type": "code",
   "execution_count": 11,
   "metadata": {},
   "outputs": [
    {
     "name": "stdout",
     "output_type": "stream",
     "text": [
      "(956553, 66)\n"
     ]
    }
   ],
   "source": [
    "print(sampled_df1.shape)"
   ]
  },
  {
   "cell_type": "code",
   "execution_count": 12,
   "metadata": {},
   "outputs": [
    {
     "name": "stdout",
     "output_type": "stream",
     "text": [
      "gameId                          0\n",
      "playId                          0\n",
      "nflId                           0\n",
      "displayName                     0\n",
      "frameId                         0\n",
      "                            ...  \n",
      "pff_runConceptPrimary      429273\n",
      "pff_runConceptSecondary    789717\n",
      "pff_runPassOption               0\n",
      "pff_passCoverage             5075\n",
      "pff_manZone                  5075\n",
      "Length: 66, dtype: int64\n"
     ]
    }
   ],
   "source": [
    "print(sampled_df1.isna().sum())"
   ]
  },
  {
   "cell_type": "code",
   "execution_count": 14,
   "metadata": {},
   "outputs": [],
   "source": [
    "sampled_df1=sampled_df1.fillna(0)"
   ]
  },
  {
   "cell_type": "code",
   "execution_count": 15,
   "metadata": {},
   "outputs": [
    {
     "name": "stdout",
     "output_type": "stream",
     "text": [
      "gameId                     0\n",
      "playId                     0\n",
      "nflId                      0\n",
      "displayName                0\n",
      "frameId                    0\n",
      "                          ..\n",
      "pff_runConceptPrimary      0\n",
      "pff_runConceptSecondary    0\n",
      "pff_runPassOption          0\n",
      "pff_passCoverage           0\n",
      "pff_manZone                0\n",
      "Length: 66, dtype: int64\n"
     ]
    }
   ],
   "source": [
    "print(sampled_df1.isna().sum())"
   ]
  },
  {
   "cell_type": "code",
   "execution_count": 17,
   "metadata": {},
   "outputs": [
    {
     "name": "stdout",
     "output_type": "stream",
     "text": [
      "Collecting matplotlib\n",
      "  Downloading matplotlib-3.9.3-cp310-cp310-manylinux_2_17_x86_64.manylinux2014_x86_64.whl.metadata (11 kB)\n",
      "Collecting contourpy>=1.0.1 (from matplotlib)\n",
      "  Downloading contourpy-1.3.1-cp310-cp310-manylinux_2_17_x86_64.manylinux2014_x86_64.whl.metadata (5.4 kB)\n",
      "Collecting cycler>=0.10 (from matplotlib)\n",
      "  Downloading cycler-0.12.1-py3-none-any.whl.metadata (3.8 kB)\n",
      "Collecting fonttools>=4.22.0 (from matplotlib)\n",
      "  Downloading fonttools-4.55.1-cp310-cp310-manylinux_2_17_x86_64.manylinux2014_x86_64.whl.metadata (164 kB)\n",
      "Collecting kiwisolver>=1.3.1 (from matplotlib)\n",
      "  Downloading kiwisolver-1.4.7-cp310-cp310-manylinux_2_12_x86_64.manylinux2010_x86_64.whl.metadata (6.3 kB)\n",
      "Requirement already satisfied: numpy>=1.23 in ./.venv/lib/python3.10/site-packages (from matplotlib) (2.1.3)\n",
      "Requirement already satisfied: packaging>=20.0 in ./.venv/lib/python3.10/site-packages (from matplotlib) (24.2)\n",
      "Collecting pillow>=8 (from matplotlib)\n",
      "  Downloading pillow-11.0.0-cp310-cp310-manylinux_2_28_x86_64.whl.metadata (9.1 kB)\n",
      "Collecting pyparsing>=2.3.1 (from matplotlib)\n",
      "  Downloading pyparsing-3.2.0-py3-none-any.whl.metadata (5.0 kB)\n",
      "Requirement already satisfied: python-dateutil>=2.7 in ./.venv/lib/python3.10/site-packages (from matplotlib) (2.9.0.post0)\n",
      "Requirement already satisfied: six>=1.5 in ./.venv/lib/python3.10/site-packages (from python-dateutil>=2.7->matplotlib) (1.16.0)\n",
      "Downloading matplotlib-3.9.3-cp310-cp310-manylinux_2_17_x86_64.manylinux2014_x86_64.whl (8.3 MB)\n",
      "\u001b[2K   \u001b[90m━━━━━━━━━━━━━━━━━━━━━━━━━━━━━━━━━━━━━━━━\u001b[0m \u001b[32m8.3/8.3 MB\u001b[0m \u001b[31m11.4 MB/s\u001b[0m eta \u001b[36m0:00:00\u001b[0m00:01\u001b[0m00:01\u001b[0m\n",
      "\u001b[?25hDownloading contourpy-1.3.1-cp310-cp310-manylinux_2_17_x86_64.manylinux2014_x86_64.whl (324 kB)\n",
      "Downloading cycler-0.12.1-py3-none-any.whl (8.3 kB)\n",
      "Downloading fonttools-4.55.1-cp310-cp310-manylinux_2_17_x86_64.manylinux2014_x86_64.whl (4.6 MB)\n",
      "\u001b[2K   \u001b[90m━━━━━━━━━━━━━━━━━━━━━━━━━━━━━━━━━━━━━━━━\u001b[0m \u001b[32m4.6/4.6 MB\u001b[0m \u001b[31m11.0 MB/s\u001b[0m eta \u001b[36m0:00:00\u001b[0ma \u001b[36m0:00:01\u001b[0m\n",
      "\u001b[?25hDownloading kiwisolver-1.4.7-cp310-cp310-manylinux_2_12_x86_64.manylinux2010_x86_64.whl (1.6 MB)\n",
      "\u001b[2K   \u001b[90m━━━━━━━━━━━━━━━━━━━━━━━━━━━━━━━━━━━━━━━━\u001b[0m \u001b[32m1.6/1.6 MB\u001b[0m \u001b[31m3.7 MB/s\u001b[0m eta \u001b[36m0:00:00\u001b[0meta \u001b[36m0:00:01\u001b[0m\n",
      "\u001b[?25hDownloading pillow-11.0.0-cp310-cp310-manylinux_2_28_x86_64.whl (4.4 MB)\n",
      "\u001b[2K   \u001b[90m━━━━━━━━━━━━━━━━━━━━━━━━━━━━━━━━━━━━━━━━\u001b[0m \u001b[32m4.4/4.4 MB\u001b[0m \u001b[31m8.5 MB/s\u001b[0m eta \u001b[36m0:00:00\u001b[0mta \u001b[36m0:00:01\u001b[0m\n",
      "\u001b[?25hDownloading pyparsing-3.2.0-py3-none-any.whl (106 kB)\n",
      "Installing collected packages: pyparsing, pillow, kiwisolver, fonttools, cycler, contourpy, matplotlib\n",
      "Successfully installed contourpy-1.3.1 cycler-0.12.1 fonttools-4.55.1 kiwisolver-1.4.7 matplotlib-3.9.3 pillow-11.0.0 pyparsing-3.2.0\n"
     ]
    }
   ],
   "source": [
    "!pip install matplotlib\n"
   ]
  },
  {
   "cell_type": "code",
   "execution_count": 19,
   "metadata": {},
   "outputs": [
    {
     "name": "stdout",
     "output_type": "stream",
     "text": [
      "Collecting seaborn\n",
      "  Downloading seaborn-0.13.2-py3-none-any.whl.metadata (5.4 kB)\n",
      "Requirement already satisfied: numpy!=1.24.0,>=1.20 in ./.venv/lib/python3.10/site-packages (from seaborn) (2.1.3)\n",
      "Requirement already satisfied: pandas>=1.2 in ./.venv/lib/python3.10/site-packages (from seaborn) (2.2.3)\n",
      "Requirement already satisfied: matplotlib!=3.6.1,>=3.4 in ./.venv/lib/python3.10/site-packages (from seaborn) (3.9.3)\n",
      "Requirement already satisfied: contourpy>=1.0.1 in ./.venv/lib/python3.10/site-packages (from matplotlib!=3.6.1,>=3.4->seaborn) (1.3.1)\n",
      "Requirement already satisfied: cycler>=0.10 in ./.venv/lib/python3.10/site-packages (from matplotlib!=3.6.1,>=3.4->seaborn) (0.12.1)\n",
      "Requirement already satisfied: fonttools>=4.22.0 in ./.venv/lib/python3.10/site-packages (from matplotlib!=3.6.1,>=3.4->seaborn) (4.55.1)\n",
      "Requirement already satisfied: kiwisolver>=1.3.1 in ./.venv/lib/python3.10/site-packages (from matplotlib!=3.6.1,>=3.4->seaborn) (1.4.7)\n",
      "Requirement already satisfied: packaging>=20.0 in ./.venv/lib/python3.10/site-packages (from matplotlib!=3.6.1,>=3.4->seaborn) (24.2)\n",
      "Requirement already satisfied: pillow>=8 in ./.venv/lib/python3.10/site-packages (from matplotlib!=3.6.1,>=3.4->seaborn) (11.0.0)\n",
      "Requirement already satisfied: pyparsing>=2.3.1 in ./.venv/lib/python3.10/site-packages (from matplotlib!=3.6.1,>=3.4->seaborn) (3.2.0)\n",
      "Requirement already satisfied: python-dateutil>=2.7 in ./.venv/lib/python3.10/site-packages (from matplotlib!=3.6.1,>=3.4->seaborn) (2.9.0.post0)\n",
      "Requirement already satisfied: pytz>=2020.1 in ./.venv/lib/python3.10/site-packages (from pandas>=1.2->seaborn) (2024.2)\n",
      "Requirement already satisfied: tzdata>=2022.7 in ./.venv/lib/python3.10/site-packages (from pandas>=1.2->seaborn) (2024.2)\n",
      "Requirement already satisfied: six>=1.5 in ./.venv/lib/python3.10/site-packages (from python-dateutil>=2.7->matplotlib!=3.6.1,>=3.4->seaborn) (1.16.0)\n",
      "Downloading seaborn-0.13.2-py3-none-any.whl (294 kB)\n",
      "Installing collected packages: seaborn\n",
      "Successfully installed seaborn-0.13.2\n"
     ]
    }
   ],
   "source": [
    "!pip install seaborn"
   ]
  },
  {
   "cell_type": "code",
   "execution_count": 22,
   "metadata": {},
   "outputs": [],
   "source": [
    "from sklearn.ensemble import RandomForestClassifier\n",
    "from sklearn.metrics import accuracy_score, classification_report, confusion_matrix\n",
    "from sklearn.model_selection import train_test_split\n",
    "\n",
    "import matplotlib.pyplot as plt\n",
    "import seaborn as sns"
   ]
  },
  {
   "cell_type": "code",
   "execution_count": null,
   "metadata": {},
   "outputs": [
    {
     "name": "stdout",
     "output_type": "stream",
     "text": [
      "Accuracy: 0.99\n",
      "Classification Report:\n",
      "               precision    recall  f1-score   support\n",
      "\n",
      "       False       1.00      0.99      0.99     69665\n",
      "        True       0.99      1.00      1.00    121646\n",
      "\n",
      "    accuracy                           0.99    191311\n",
      "   macro avg       1.00      0.99      0.99    191311\n",
      "weighted avg       0.99      0.99      0.99    191311\n",
      "\n",
      "Confusion matrix:\n",
      " [[ 68877    788]\n",
      " [   189 121457]]\n"
     ]
    },
    {
     "data": {
      "image/png": "[encoded data removed]",
      "text/plain": [
       "<Figure size 800x600 with 2 Axes>"
      ]
     },
     "metadata": {},
     "output_type": "display_data"
    }
   ],
   "source": [
    "\n",
    "features = sampled_df1[['defensiveTeam', 'down', 'yardsToGo', 'preSnapHomeScore', \n",
    "                         'preSnapVisitorScore', 'offenseFormation', 'pff_passCoverage', \n",
    "                         'pff_manZone', 'playClockAtSnap']]\n",
    "\n",
    "labels = sampled_df1['isDropback']  \n",
    "\n",
    "\n",
    "features = pd.get_dummies(features)  \n",
    "X_train, X_test, y_train, y_test = train_test_split(features, labels, test_size=0.2, random_state=42)\n",
    "\n",
    "model = RandomForestClassifier(n_estimators=100, random_state=42)\n",
    "model.fit(X_train, y_train)\n",
    "\n",
    "\n",
    "y_pred = model.predict(X_test)\n",
    "\n",
    "accuracy = accuracy_score(y_test, y_pred)\n",
    "print(f'Accuracy: {accuracy:.2f}')\n",
    "print(\"Classification Report:\\n\", classification_report(y_test, y_pred))\n",
    "print(\"Confusion matrix:\\n\", confusion_matrix(y_test, y_pred))\n",
    "\n",
    "plt.figure(figsize=(8, 6))\n",
    "sns.heatmap(confusion_matrix(y_test, y_pred), annot=True, fmt='d', cmap='Blues', \n",
    "            xticklabels=['Run', 'Pass'], yticklabels=['Run', 'Pass'])\n",
    "plt.ylabel('Actual Value')\n",
    "plt.xlabel('forecast Value')\n",
    "plt.title('Confusion matrix')\n",
    "plt.show()"
   ]
  },
  {
   "cell_type": "code",
   "execution_count": 28,
   "metadata": {},
   "outputs": [
    {
     "data": {
      "text/plain": [
       "['random_forest_model.pkl']"
      ]
     },
     "execution_count": 28,
     "metadata": {},
     "output_type": "execute_result"
    }
   ],
   "source": [
    "import joblib\n",
    "joblib.dump(model, 'random_forest_model.pkl')"
   ]
  }
 ],
 "metadata": {
  "colab": {
   "provenance": [],
   "toc_visible": true
  },
  "kernelspec": {
   "display_name": ".venv",
   "language": "python",
   "name": "python3"
  },
  "language_info": {
   "codemirror_mode": {
    "name": "ipython",
    "version": 3
   },
   "file_extension": ".py",
   "mimetype": "text/x-python",
   "name": "python",
   "nbconvert_exporter": "python",
   "pygments_lexer": "ipython3",
   "version": "3.10.12"
  }
 },
 "nbformat": 4,
 "nbformat_minor": 0
}
